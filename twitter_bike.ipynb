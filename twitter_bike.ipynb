{
  "nbformat": 4,
  "nbformat_minor": 0,
  "metadata": {
    "colab": {
      "name": "twitter bike.ipynb",
      "provenance": [],
      "include_colab_link": true
    },
    "kernelspec": {
      "name": "python3",
      "display_name": "Python 3"
    },
    "language_info": {
      "name": "python"
    }
  },
  "cells": [
    {
      "cell_type": "markdown",
      "metadata": {
        "id": "view-in-github",
        "colab_type": "text"
      },
      "source": [
        "<a href=\"https://colab.research.google.com/github/wadh5811/Fall-21-Research/blob/main/twitter_bike.ipynb\" target=\"_parent\"><img src=\"https://colab.research.google.com/assets/colab-badge.svg\" alt=\"Open In Colab\"/></a>"
      ]
    },
    {
      "cell_type": "code",
      "metadata": {
        "id": "jkAGL6YzpVFR",
        "colab": {
          "base_uri": "https://localhost:8080/"
        },
        "outputId": "7b70b8e6-fd7b-458f-d73f-7e9bb8bdc2b7"
      },
      "source": [
        "from google.colab import drive\n",
        "drive.mount('/content/gdrive')"
      ],
      "execution_count": null,
      "outputs": [
        {
          "output_type": "stream",
          "name": "stdout",
          "text": [
            "Mounted at /content/gdrive\n"
          ]
        }
      ]
    },
    {
      "cell_type": "code",
      "metadata": {
        "id": "DF80rCRT9iwg"
      },
      "source": [
        "!pip install snscrape"
      ],
      "execution_count": null,
      "outputs": []
    },
    {
      "cell_type": "code",
      "metadata": {
        "id": "BhSB5n89Q_pK"
      },
      "source": [
        "%cd /content/\n",
        "%mkdir /content/raw_data_bike\n",
        "%ls\n",
        "# import os\n",
        "# dir = '/content/raw_data'\n",
        "# for f in os.listdir(dir):\n",
        "#     os.remove(os.path.join(dir, f))\n",
        "# os.rename('raw_data', 'raw_data_bus')"
      ],
      "execution_count": null,
      "outputs": []
    },
    {
      "cell_type": "code",
      "source": [
        "%cd /content/\n",
        "%mkdir /content/raw_data_bus\n",
        "%mkdir /content/raw_data_taxi\n",
        "%ls"
      ],
      "metadata": {
        "colab": {
          "base_uri": "https://localhost:8080/"
        },
        "id": "sK0Et_VlZw74",
        "outputId": "06d0055b-e148-4e62-e432-13188d564515"
      },
      "execution_count": null,
      "outputs": [
        {
          "output_type": "stream",
          "name": "stdout",
          "text": [
            "/content\n",
            "\u001b[0m\u001b[01;34mgdrive\u001b[0m/  \u001b[01;34mraw_data_bike\u001b[0m/  \u001b[01;34mraw_data_bus\u001b[0m/  \u001b[01;34mraw_data_taxi\u001b[0m/  \u001b[01;34msample_data\u001b[0m/\n"
          ]
        }
      ]
    },
    {
      "cell_type": "code",
      "metadata": {
        "id": "7Zf0O6skLve5",
        "colab": {
          "base_uri": "https://localhost:8080/"
        },
        "outputId": "268e6a16-e031-4985-8f0e-7745931e0be6"
      },
      "source": [
        "from geopy.geocoders import Nominatim\n",
        "geolocator = Nominatim(user_agent=\"me\")\n",
        "geolocator.geocode(\"New York, United States\").raw"
      ],
      "execution_count": null,
      "outputs": [
        {
          "output_type": "execute_result",
          "data": {
            "text/plain": [
              "{'boundingbox': ['40.477399', '40.9161785', '-74.25909', '-73.7001809'],\n",
              " 'class': 'boundary',\n",
              " 'display_name': 'New York, United States',\n",
              " 'icon': 'https://nominatim.openstreetmap.org/ui/mapicons//poi_boundary_administrative.p.20.png',\n",
              " 'importance': 1.2175766114518463,\n",
              " 'lat': '40.7127281',\n",
              " 'licence': 'Data © OpenStreetMap contributors, ODbL 1.0. https://osm.org/copyright',\n",
              " 'lon': '-74.0060152',\n",
              " 'osm_id': 175905,\n",
              " 'osm_type': 'relation',\n",
              " 'place_id': 282582851,\n",
              " 'type': 'administrative'}"
            ]
          },
          "metadata": {},
          "execution_count": 4
        }
      ]
    },
    {
      "cell_type": "code",
      "metadata": {
        "id": "ilCOzwYc9omF"
      },
      "source": [
        "import snscrape.modules.twitter as sntwitter\n",
        "import itertools\n",
        "import pandas as pd\n",
        "\n",
        "geocode:\"{coordinates}\" \n",
        "lang:\"{language}\""
      ],
      "execution_count": null,
      "outputs": []
    },
    {
      "cell_type": "code",
      "metadata": {
        "id": "U-fvBmJC9hXp"
      },
      "source": [
        "keywords=['bus']\n",
        "coordinates = '40.7127281,-74.0060152, 50mi',\n",
        "languages=['en']"
      ],
      "execution_count": null,
      "outputs": []
    },
    {
      "cell_type": "code",
      "metadata": {
        "id": "7pIq8PBl-DIO"
      },
      "source": [
        "# sntwitter.TwitterSearchScraper(f'{keywords} + since:{start} until:{end}')\n",
        "# tweets_list = []\n",
        "# keywords = 'bus OR buses OR ferry OR ferries OR \"public transportation\" OR \"public transport\"'\n",
        "\n",
        "# for i, tweet in enumerate(sntwitter.TwitterSearchScraper(keywords + ' since:2020-01-01 until:2020-01-02 geocode:\"40.730610,-73.935242, 50mi\" lang:en').get_items()):\n",
        "#     username = tweet.username\n",
        "#     text = tweet.content\n",
        "#     pubdate = tweet.date\n",
        "#     permalink = tweet.url\n",
        "#     tweets_list.append([username, text, pubdate, permalink])\n",
        "\n",
        "# tweets_df = pd.DataFrame(tweets_list, columns = ['username', 'text', 'date', 'link'])\n",
        "# tweets_df.text[1]\n",
        "# start_date.strftime(\"%Y-%m-%d\") + '.csv'"
      ],
      "execution_count": null,
      "outputs": []
    },
    {
      "cell_type": "code",
      "metadata": {
        "id": "rCi6fslqCXWV",
        "colab": {
          "base_uri": "https://localhost:8080/"
        },
        "outputId": "ef94d523-5753-4ea7-da3c-290a9c6565dd"
      },
      "source": [
        "from snscrape.base import ScraperException\n",
        "# start_dates = pd.date_range(start=\"2020-01-01\",end=\"2021-06-01\")\n",
        "scraper_exception = 0\n",
        "date_start = \"2021-07-01\"\n",
        "while date_start != \"2021-12-26\":\n",
        "  try:\n",
        "    start_dates = pd.date_range(start=date_start,end=\"2021-12-26\")\n",
        "    import datetime\n",
        "    keywords = 'bike OR #bike OR bicycle OR #bicycle OR citibike OR \"citi bike\" OR \"bike share\"'\n",
        "    length = []\n",
        "    counter = 0\n",
        "    for start_date in start_dates:\n",
        "        since = start_date.strftime(\"%Y-%m-%d\")\n",
        "        until = (start_date+datetime.timedelta(days=1)).strftime(\"%Y-%m-%d\")\n",
        "        search_txt = keywords + ' since:' + since + ' until:' + until + ' geocode:\"40.730610,-73.935242, 50mi\" lang:en'\n",
        "        tweets_list = []\n",
        "        for i, tweet in enumerate(sntwitter.TwitterSearchScraper(search_txt).get_items()):\n",
        "            username = tweet.username\n",
        "            text = tweet.content\n",
        "            pubdate = tweet.date\n",
        "            permalink = tweet.url\n",
        "            tweets_list.append([username, text, pubdate, permalink])\n",
        "        length.append(len(tweets_list))\n",
        "        counter += 1\n",
        "        if counter % 100 == 0:\n",
        "            print(max(length))\n",
        "        tweets_df = pd.DataFrame(tweets_list, columns = ['username', 'text', 'date', 'link'])\n",
        "        tweets_df.to_csv('/content/raw_data_bike/' + since + '.csv')\n",
        "        date_start = since\n",
        "  except ScraperException:\n",
        "    scraper_exception+=1\n",
        "\n",
        "print(scraper_exception)"
      ],
      "execution_count": null,
      "outputs": [
        {
          "output_type": "stream",
          "name": "stderr",
          "text": [
            "Error retrieving https://api.twitter.com/2/search/adaptive.json?include_profile_interstitial_type=1&include_blocking=1&include_blocked_by=1&include_followed_by=1&include_want_retweets=1&include_mute_edge=1&include_can_dm=1&include_can_media_tag=1&skip_status=1&cards_platform=Web-12&include_cards=1&include_composer_source=true&include_ext_alt_text=true&include_reply_count=1&tweet_mode=extended&include_entities=true&include_user_entities=true&include_ext_media_color=true&include_ext_media_availability=true&send_error_codes=true&simple_quoted_tweets=true&q=bike+OR+%23bike+OR+bicycle+OR+%23bicycle+OR+citibike+OR+%22citi+bike%22+OR+%22bike+share%22+since%3A2021-11-24+until%3A2021-11-25+geocode%3A%2240.730610%2C-73.935242%2C+50mi%22+lang%3Aen&tweet_search_mode=live&count=100&query_source=spelling_expansion_revert_click&pc=1&spelling_corrections=1&ext=mediaStats%252CcameraMoment: ReadTimeout(ReadTimeoutError(\"HTTPSConnectionPool(host='api.twitter.com', port=443): Read timed out. (read timeout=10)\")), retrying\n"
          ]
        },
        {
          "output_type": "stream",
          "name": "stdout",
          "text": [
            "403\n"
          ]
        }
      ]
    },
    {
      "cell_type": "code",
      "metadata": {
        "id": "1l80-xS9osix"
      },
      "source": [
        "!cp -r raw_data_bike gdrive/MyDrive"
      ],
      "execution_count": null,
      "outputs": []
    },
    {
      "cell_type": "code",
      "metadata": {
        "id": "gQxV0w21TlBC"
      },
      "source": [
        "# start_dates = pd.date_range(start=\"2020-01-01\",end=\"2020-02-01\")\n",
        "# for start_date in start_dates:\n",
        "#     print(start_date)"
      ],
      "execution_count": null,
      "outputs": []
    },
    {
      "cell_type": "code",
      "metadata": {
        "id": "EgAfosiyAGSk"
      },
      "source": [
        "# keyword = '(COVID OR Corona Vírus)'\n",
        "# maxTweets = 3000\n",
        "# tweets = []\n",
        "# tdf = None\n",
        "# for i,tweet in enumerate(sntwitter.TwitterSearchScraper(keyword + ' since:2020-01-01 until:2021-01-01 lang:en').get_items()) :\n",
        "#         if i > maxTweets :\n",
        "#             break\n",
        "#         username = tweet.username\n",
        "#         text = tweet.content\n",
        "#         pubdate = tweet.date\n",
        "#         permalink = tweet.url\n",
        "#         tweets.append({\n",
        "#             \"permalink\":permalink,\n",
        "#             \"pubdate\":pubdate,\n",
        "#             \"text\":text,\n",
        "#             \"username\":username\n",
        "#         })\n",
        "# tweets[-1]"
      ],
      "execution_count": null,
      "outputs": []
    },
    {
      "cell_type": "code",
      "metadata": {
        "colab": {
          "base_uri": "https://localhost:8080/"
        },
        "id": "rM_cBVdfAIHj",
        "outputId": "1b11521e-ec67-48e1-8ebf-68296670b326"
      },
      "source": [
        ""
      ],
      "execution_count": null,
      "outputs": [
        {
          "output_type": "execute_result",
          "data": {
            "text/plain": [
              "{'permalink': 'https://twitter.com/annabarros/status/1344440739917406211',\n",
              " 'pubdate': datetime.datetime(2020, 12, 31, 0, 30, 25, tzinfo=datetime.timezone.utc),\n",
              " 'text': 'Triste demais com o falecimento de @guroman por covid. Sempre querido comigo. Vírus maldito.',\n",
              " 'username': 'annabarros'}"
            ]
          },
          "metadata": {},
          "execution_count": 15
        }
      ]
    },
    {
      "cell_type": "code",
      "metadata": {
        "id": "rA-nthj4BTtG"
      },
      "source": [
        "search_words = [('bike OR #bike OR bicycle OR #bicycle'),\n",
        "                ('citibike OR \"citi bike\" OR \"bike share\"'),\n",
        "                ('jumpbike OR \"jump bike\" OR \"bike share\"'),\n",
        "                ('uber OR #uber OR #Uber OR lyft OR #lyft OR #Lyft'),\n",
        "                ('subway OR subways OR metroline OR PATH OR Amtrak OR MTA OR LIRR OR shuttle OR train OR trains OR \"light rail\" OR \"light rails\"'),\n",
        "                ('bus OR buses OR ferry OR ferries OR \"public transportation\" OR \"public transport\"'),\n",
        "                ('Greyhound OR megabus OR boltbus OR \"Peter Pan bus\" OR Lizak OR boltbus OR VAMOOSE OR \"TRIPPER BUS\" OR \"airport shuttle\" OR \"air shuttle\" OR \"shuttle bus\"'),\n",
        "                ('\"cab\" OR \"cabs\" OR \"taxi\" OR taxis OR car OR cars OR scooter OR scooters OR \"parking\" OR \"private car\"'),\n",
        "                ('DOT OR \"Department of Transportation\"'),\n",
        "                ('Walmart OR Target OR \"Whole Foods\" OR Safeway OR Mcdonald OR KFC OR Popeyes OR \"Burger King\"' ),\n",
        "                ('motorbike OR motorbikes OR dirtbike OR dirtbikes'),\n",
        "                ('\"social distance\" OR #socialdistance OR \"COVID\" OR \"COVID-19\" OR \"face mask\" OR \"public health\"'),\n",
        "                ('\"Return to work\" OR \"return to office\" OR \"back to office\" OR \"back to work\"'),\n",
        "                ('#WFH OR #Workfromhome OR #Reomotework OR \"work from work\" OR \"remote work\"'),\n",
        "                ('\"telecommuting\" OR \"Zoom\" OR \"skype\" OR #telecommuting OR #Zoom OR #skype')]\n",
        "\n",
        "list_names = ['bike', 'citibike', 'jumpbike', 'uber', 'subway', 'bus', 'shuttle', 'cab', 'DOT',\n",
        "              'Walmart', 'motorbike', 'COVID', 'Returnwork', 'WFH', 'telecommuting']"
      ],
      "execution_count": null,
      "outputs": []
    }
  ]
}