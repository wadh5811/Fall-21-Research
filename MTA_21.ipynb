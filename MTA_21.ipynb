{
  "nbformat": 4,
  "nbformat_minor": 0,
  "metadata": {
    "kernelspec": {
      "display_name": "Python 3",
      "language": "python",
      "name": "python3"
    },
    "language_info": {
      "codemirror_mode": {
        "name": "ipython",
        "version": 3
      },
      "file_extension": ".py",
      "mimetype": "text/x-python",
      "name": "python",
      "nbconvert_exporter": "python",
      "pygments_lexer": "ipython3",
      "version": "3.7.6"
    },
    "colab": {
      "name": "MTA 21.ipynb",
      "provenance": [],
      "include_colab_link": true
    }
  },
  "cells": [
    {
      "cell_type": "markdown",
      "metadata": {
        "id": "view-in-github",
        "colab_type": "text"
      },
      "source": [
        "<a href=\"https://colab.research.google.com/github/wadh5811/Fall-21-Research/blob/main/MTA_21.ipynb\" target=\"_parent\"><img src=\"https://colab.research.google.com/assets/colab-badge.svg\" alt=\"Open In Colab\"/></a>"
      ]
    },
    {
      "cell_type": "code",
      "metadata": {
        "id": "2ES8tteEbHdt"
      },
      "source": [
        "from collections import defaultdict\n",
        "from dateutil.parser import parse\n",
        "from datetime import datetime\n",
        "from datetime import date\n",
        "import pandas as pd\n",
        "import numpy as np\n",
        "import matplotlib.pyplot as plt\n",
        "import time"
      ],
      "execution_count": null,
      "outputs": []
    },
    {
      "cell_type": "code",
      "metadata": {
        "id": "jADsyQmDbHdy"
      },
      "source": [
        "# various options in pandas\n",
        "pd.set_option('display.max_columns', None)\n",
        "pd.set_option('display.max_rows', 25)\n",
        "pd.set_option('display.precision', 3)\n",
        "start_time = time.time()"
      ],
      "execution_count": null,
      "outputs": []
    },
    {
      "cell_type": "code",
      "metadata": {
        "id": "79kYjv3vbHd2"
      },
      "source": [
        "#read and process all files in dataset\n",
        "def read_mta(file_nums):\n",
        "    path ='http://web.mta.info/developers/data/nyct/turnstile/turnstile_'\n",
        "    allFiles = []\n",
        "    for i in file_nums:\n",
        "        allFiles.append(path + i + \".txt\")\n",
        "    df_list = []\n",
        "    for file in allFiles:\n",
        "        try:\n",
        "            df_list.append(pd.read_csv(file))\n",
        "        except:\n",
        "            print(file)\n",
        "#     df_list = [pd.read_csv(file) for file in allFiles]\n",
        "    df = pd.concat(df_list)\n",
        "    df.columns = df.columns.str.strip()\n",
        "    return df"
      ],
      "execution_count": null,
      "outputs": []
    },
    {
      "cell_type": "code",
      "metadata": {
        "id": "yzK51FxdbHd4"
      },
      "source": [
        "#read monthly files by week\n",
        "def str_creat(str_):\n",
        "    result = [str_]\n",
        "    num = int(str_)\n",
        "    last_two = int(str_[-2:]) \n",
        "    while last_two - 7 > 0:\n",
        "        num = num - 7\n",
        "        result.append(str(num))\n",
        "        last_two = last_two - 7\n",
        "    return result"
      ],
      "execution_count": null,
      "outputs": []
    },
    {
      "cell_type": "code",
      "metadata": {
        "id": "AX-IxlPQbHd7"
      },
      "source": [
        "def date_generate(start_list):\n",
        "    result = []\n",
        "    for date in start_list:\n",
        "        tmp = str_creat(date)\n",
        "        result += tmp\n",
        "    return result"
      ],
      "execution_count": null,
      "outputs": []
    },
    {
      "cell_type": "code",
      "metadata": {
        "id": "eieCHGUfbHd9"
      },
      "source": [
        "#testing\n",
        "def test_str_creat(str_, answer):\n",
        "    if str_creat(str_) == answer:\n",
        "        print('It is correct')\n",
        "    else:\n",
        "        print('The function is not right')"
      ],
      "execution_count": null,
      "outputs": []
    },
    {
      "cell_type": "code",
      "source": [
        "str_creat('211225')"
      ],
      "metadata": {
        "colab": {
          "base_uri": "https://localhost:8080/"
        },
        "id": "EZ_EfP8Niy3R",
        "outputId": "c5f25524-033e-45e6-deb3-2f9fbf8401e3"
      },
      "execution_count": null,
      "outputs": [
        {
          "output_type": "execute_result",
          "data": {
            "text/plain": [
              "['211225', '211218', '211211', '211204']"
            ]
          },
          "metadata": {},
          "execution_count": 7
        }
      ]
    },
    {
      "cell_type": "code",
      "metadata": {
        "id": "4Lu9xCsNbHeD"
      },
      "source": [
        "#2021's data by month\n",
        "start_list = ['211225','211127','211030','210925','210828','210731','210626','210529','210424','210327','210227','210130']\n",
        "date_read = date_generate(start_list)"
      ],
      "execution_count": null,
      "outputs": []
    },
    {
      "cell_type": "markdown",
      "metadata": {
        "id": "gtfIlk5Ho8To"
      },
      "source": [
        "# New section"
      ]
    },
    {
      "cell_type": "code",
      "metadata": {
        "id": "YjmdwjRjbHeE",
        "colab": {
          "base_uri": "https://localhost:8080/",
          "height": 206
        },
        "outputId": "3f9dc516-3e54-4590-d660-10a51486dbc7"
      },
      "source": [
        "df = read_mta(date_read)\n",
        "df.DESC.unique()\n",
        "df.head()"
      ],
      "execution_count": null,
      "outputs": [
        {
          "output_type": "execute_result",
          "data": {
            "text/html": [
              "\n",
              "  <div id=\"df-0a4c5c38-548c-407e-8006-6068c466fc17\">\n",
              "    <div class=\"colab-df-container\">\n",
              "      <div>\n",
              "<style scoped>\n",
              "    .dataframe tbody tr th:only-of-type {\n",
              "        vertical-align: middle;\n",
              "    }\n",
              "\n",
              "    .dataframe tbody tr th {\n",
              "        vertical-align: top;\n",
              "    }\n",
              "\n",
              "    .dataframe thead th {\n",
              "        text-align: right;\n",
              "    }\n",
              "</style>\n",
              "<table border=\"1\" class=\"dataframe\">\n",
              "  <thead>\n",
              "    <tr style=\"text-align: right;\">\n",
              "      <th></th>\n",
              "      <th>C/A</th>\n",
              "      <th>UNIT</th>\n",
              "      <th>SCP</th>\n",
              "      <th>STATION</th>\n",
              "      <th>LINENAME</th>\n",
              "      <th>DIVISION</th>\n",
              "      <th>DATE</th>\n",
              "      <th>TIME</th>\n",
              "      <th>DESC</th>\n",
              "      <th>ENTRIES</th>\n",
              "      <th>EXITS</th>\n",
              "    </tr>\n",
              "  </thead>\n",
              "  <tbody>\n",
              "    <tr>\n",
              "      <th>0</th>\n",
              "      <td>A002</td>\n",
              "      <td>R051</td>\n",
              "      <td>02-00-00</td>\n",
              "      <td>59 ST</td>\n",
              "      <td>NQR456W</td>\n",
              "      <td>BMT</td>\n",
              "      <td>12/18/2021</td>\n",
              "      <td>03:00:00</td>\n",
              "      <td>REGULAR</td>\n",
              "      <td>7672966</td>\n",
              "      <td>2645023</td>\n",
              "    </tr>\n",
              "    <tr>\n",
              "      <th>1</th>\n",
              "      <td>A002</td>\n",
              "      <td>R051</td>\n",
              "      <td>02-00-00</td>\n",
              "      <td>59 ST</td>\n",
              "      <td>NQR456W</td>\n",
              "      <td>BMT</td>\n",
              "      <td>12/18/2021</td>\n",
              "      <td>07:00:00</td>\n",
              "      <td>REGULAR</td>\n",
              "      <td>7672969</td>\n",
              "      <td>2645040</td>\n",
              "    </tr>\n",
              "    <tr>\n",
              "      <th>2</th>\n",
              "      <td>A002</td>\n",
              "      <td>R051</td>\n",
              "      <td>02-00-00</td>\n",
              "      <td>59 ST</td>\n",
              "      <td>NQR456W</td>\n",
              "      <td>BMT</td>\n",
              "      <td>12/18/2021</td>\n",
              "      <td>11:00:00</td>\n",
              "      <td>REGULAR</td>\n",
              "      <td>7672991</td>\n",
              "      <td>2645127</td>\n",
              "    </tr>\n",
              "    <tr>\n",
              "      <th>3</th>\n",
              "      <td>A002</td>\n",
              "      <td>R051</td>\n",
              "      <td>02-00-00</td>\n",
              "      <td>59 ST</td>\n",
              "      <td>NQR456W</td>\n",
              "      <td>BMT</td>\n",
              "      <td>12/18/2021</td>\n",
              "      <td>15:00:00</td>\n",
              "      <td>REGULAR</td>\n",
              "      <td>7673037</td>\n",
              "      <td>2645193</td>\n",
              "    </tr>\n",
              "    <tr>\n",
              "      <th>4</th>\n",
              "      <td>A002</td>\n",
              "      <td>R051</td>\n",
              "      <td>02-00-00</td>\n",
              "      <td>59 ST</td>\n",
              "      <td>NQR456W</td>\n",
              "      <td>BMT</td>\n",
              "      <td>12/18/2021</td>\n",
              "      <td>19:00:00</td>\n",
              "      <td>REGULAR</td>\n",
              "      <td>7673097</td>\n",
              "      <td>2645270</td>\n",
              "    </tr>\n",
              "  </tbody>\n",
              "</table>\n",
              "</div>\n",
              "      <button class=\"colab-df-convert\" onclick=\"convertToInteractive('df-0a4c5c38-548c-407e-8006-6068c466fc17')\"\n",
              "              title=\"Convert this dataframe to an interactive table.\"\n",
              "              style=\"display:none;\">\n",
              "        \n",
              "  <svg xmlns=\"http://www.w3.org/2000/svg\" height=\"24px\"viewBox=\"0 0 24 24\"\n",
              "       width=\"24px\">\n",
              "    <path d=\"M0 0h24v24H0V0z\" fill=\"none\"/>\n",
              "    <path d=\"M18.56 5.44l.94 2.06.94-2.06 2.06-.94-2.06-.94-.94-2.06-.94 2.06-2.06.94zm-11 1L8.5 8.5l.94-2.06 2.06-.94-2.06-.94L8.5 2.5l-.94 2.06-2.06.94zm10 10l.94 2.06.94-2.06 2.06-.94-2.06-.94-.94-2.06-.94 2.06-2.06.94z\"/><path d=\"M17.41 7.96l-1.37-1.37c-.4-.4-.92-.59-1.43-.59-.52 0-1.04.2-1.43.59L10.3 9.45l-7.72 7.72c-.78.78-.78 2.05 0 2.83L4 21.41c.39.39.9.59 1.41.59.51 0 1.02-.2 1.41-.59l7.78-7.78 2.81-2.81c.8-.78.8-2.07 0-2.86zM5.41 20L4 18.59l7.72-7.72 1.47 1.35L5.41 20z\"/>\n",
              "  </svg>\n",
              "      </button>\n",
              "      \n",
              "  <style>\n",
              "    .colab-df-container {\n",
              "      display:flex;\n",
              "      flex-wrap:wrap;\n",
              "      gap: 12px;\n",
              "    }\n",
              "\n",
              "    .colab-df-convert {\n",
              "      background-color: #E8F0FE;\n",
              "      border: none;\n",
              "      border-radius: 50%;\n",
              "      cursor: pointer;\n",
              "      display: none;\n",
              "      fill: #1967D2;\n",
              "      height: 32px;\n",
              "      padding: 0 0 0 0;\n",
              "      width: 32px;\n",
              "    }\n",
              "\n",
              "    .colab-df-convert:hover {\n",
              "      background-color: #E2EBFA;\n",
              "      box-shadow: 0px 1px 2px rgba(60, 64, 67, 0.3), 0px 1px 3px 1px rgba(60, 64, 67, 0.15);\n",
              "      fill: #174EA6;\n",
              "    }\n",
              "\n",
              "    [theme=dark] .colab-df-convert {\n",
              "      background-color: #3B4455;\n",
              "      fill: #D2E3FC;\n",
              "    }\n",
              "\n",
              "    [theme=dark] .colab-df-convert:hover {\n",
              "      background-color: #434B5C;\n",
              "      box-shadow: 0px 1px 3px 1px rgba(0, 0, 0, 0.15);\n",
              "      filter: drop-shadow(0px 1px 2px rgba(0, 0, 0, 0.3));\n",
              "      fill: #FFFFFF;\n",
              "    }\n",
              "  </style>\n",
              "\n",
              "      <script>\n",
              "        const buttonEl =\n",
              "          document.querySelector('#df-0a4c5c38-548c-407e-8006-6068c466fc17 button.colab-df-convert');\n",
              "        buttonEl.style.display =\n",
              "          google.colab.kernel.accessAllowed ? 'block' : 'none';\n",
              "\n",
              "        async function convertToInteractive(key) {\n",
              "          const element = document.querySelector('#df-0a4c5c38-548c-407e-8006-6068c466fc17');\n",
              "          const dataTable =\n",
              "            await google.colab.kernel.invokeFunction('convertToInteractive',\n",
              "                                                     [key], {});\n",
              "          if (!dataTable) return;\n",
              "\n",
              "          const docLinkHtml = 'Like what you see? Visit the ' +\n",
              "            '<a target=\"_blank\" href=https://colab.research.google.com/notebooks/data_table.ipynb>data table notebook</a>'\n",
              "            + ' to learn more about interactive tables.';\n",
              "          element.innerHTML = '';\n",
              "          dataTable['output_type'] = 'display_data';\n",
              "          await google.colab.output.renderOutput(dataTable, element);\n",
              "          const docLink = document.createElement('div');\n",
              "          docLink.innerHTML = docLinkHtml;\n",
              "          element.appendChild(docLink);\n",
              "        }\n",
              "      </script>\n",
              "    </div>\n",
              "  </div>\n",
              "  "
            ],
            "text/plain": [
              "    C/A  UNIT       SCP STATION LINENAME DIVISION        DATE      TIME  \\\n",
              "0  A002  R051  02-00-00   59 ST  NQR456W      BMT  12/18/2021  03:00:00   \n",
              "1  A002  R051  02-00-00   59 ST  NQR456W      BMT  12/18/2021  07:00:00   \n",
              "2  A002  R051  02-00-00   59 ST  NQR456W      BMT  12/18/2021  11:00:00   \n",
              "3  A002  R051  02-00-00   59 ST  NQR456W      BMT  12/18/2021  15:00:00   \n",
              "4  A002  R051  02-00-00   59 ST  NQR456W      BMT  12/18/2021  19:00:00   \n",
              "\n",
              "      DESC  ENTRIES    EXITS  \n",
              "0  REGULAR  7672966  2645023  \n",
              "1  REGULAR  7672969  2645040  \n",
              "2  REGULAR  7672991  2645127  \n",
              "3  REGULAR  7673037  2645193  \n",
              "4  REGULAR  7673097  2645270  "
            ]
          },
          "metadata": {},
          "execution_count": 10
        }
      ]
    },
    {
      "cell_type": "code",
      "metadata": {
        "id": "1ITG1-gxbHeL",
        "colab": {
          "base_uri": "https://localhost:8080/",
          "height": 206
        },
        "outputId": "4185813a-7f2c-46d4-9f4f-51f7160ff3ff"
      },
      "source": [
        "# remove duplicates\n",
        "df = df[df.DESC != 'RECOVR AUD']\n",
        "df = df[df.TIME != '04:01:13']\n",
        "# Sanity check to verify that \"C/A\", \"UNIT\", \"SCP\", \"STATION\", \"DATE_TIME\" is unique\n",
        "(df\n",
        " .groupby(['C/A', 'UNIT', 'SCP', 'STATION', 'DATE', 'TIME'])\n",
        " .ENTRIES.count()\n",
        " .reset_index()\n",
        " .sort_values(\"ENTRIES\", ascending=False)).head()"
      ],
      "execution_count": null,
      "outputs": [
        {
          "output_type": "execute_result",
          "data": {
            "text/html": [
              "\n",
              "  <div id=\"df-e2aa822f-ce30-4660-82db-0c557fa69129\">\n",
              "    <div class=\"colab-df-container\">\n",
              "      <div>\n",
              "<style scoped>\n",
              "    .dataframe tbody tr th:only-of-type {\n",
              "        vertical-align: middle;\n",
              "    }\n",
              "\n",
              "    .dataframe tbody tr th {\n",
              "        vertical-align: top;\n",
              "    }\n",
              "\n",
              "    .dataframe thead th {\n",
              "        text-align: right;\n",
              "    }\n",
              "</style>\n",
              "<table border=\"1\" class=\"dataframe\">\n",
              "  <thead>\n",
              "    <tr style=\"text-align: right;\">\n",
              "      <th></th>\n",
              "      <th>C/A</th>\n",
              "      <th>UNIT</th>\n",
              "      <th>SCP</th>\n",
              "      <th>STATION</th>\n",
              "      <th>DATE</th>\n",
              "      <th>TIME</th>\n",
              "      <th>ENTRIES</th>\n",
              "    </tr>\n",
              "  </thead>\n",
              "  <tbody>\n",
              "    <tr>\n",
              "      <th>0</th>\n",
              "      <td>A002</td>\n",
              "      <td>R051</td>\n",
              "      <td>02-00-00</td>\n",
              "      <td>59 ST</td>\n",
              "      <td>01/01/2021</td>\n",
              "      <td>03:00:00</td>\n",
              "      <td>1</td>\n",
              "    </tr>\n",
              "    <tr>\n",
              "      <th>7234026</th>\n",
              "      <td>R139</td>\n",
              "      <td>R031</td>\n",
              "      <td>04-00-00</td>\n",
              "      <td>34 ST-PENN STA</td>\n",
              "      <td>04/23/2021</td>\n",
              "      <td>12:00:00</td>\n",
              "      <td>1</td>\n",
              "    </tr>\n",
              "    <tr>\n",
              "      <th>7234028</th>\n",
              "      <td>R139</td>\n",
              "      <td>R031</td>\n",
              "      <td>04-00-00</td>\n",
              "      <td>34 ST-PENN STA</td>\n",
              "      <td>04/23/2021</td>\n",
              "      <td>20:00:00</td>\n",
              "      <td>1</td>\n",
              "    </tr>\n",
              "    <tr>\n",
              "      <th>7234029</th>\n",
              "      <td>R139</td>\n",
              "      <td>R031</td>\n",
              "      <td>04-00-00</td>\n",
              "      <td>34 ST-PENN STA</td>\n",
              "      <td>04/24/2021</td>\n",
              "      <td>00:00:00</td>\n",
              "      <td>1</td>\n",
              "    </tr>\n",
              "    <tr>\n",
              "      <th>7234030</th>\n",
              "      <td>R139</td>\n",
              "      <td>R031</td>\n",
              "      <td>04-00-00</td>\n",
              "      <td>34 ST-PENN STA</td>\n",
              "      <td>04/24/2021</td>\n",
              "      <td>04:00:00</td>\n",
              "      <td>1</td>\n",
              "    </tr>\n",
              "  </tbody>\n",
              "</table>\n",
              "</div>\n",
              "      <button class=\"colab-df-convert\" onclick=\"convertToInteractive('df-e2aa822f-ce30-4660-82db-0c557fa69129')\"\n",
              "              title=\"Convert this dataframe to an interactive table.\"\n",
              "              style=\"display:none;\">\n",
              "        \n",
              "  <svg xmlns=\"http://www.w3.org/2000/svg\" height=\"24px\"viewBox=\"0 0 24 24\"\n",
              "       width=\"24px\">\n",
              "    <path d=\"M0 0h24v24H0V0z\" fill=\"none\"/>\n",
              "    <path d=\"M18.56 5.44l.94 2.06.94-2.06 2.06-.94-2.06-.94-.94-2.06-.94 2.06-2.06.94zm-11 1L8.5 8.5l.94-2.06 2.06-.94-2.06-.94L8.5 2.5l-.94 2.06-2.06.94zm10 10l.94 2.06.94-2.06 2.06-.94-2.06-.94-.94-2.06-.94 2.06-2.06.94z\"/><path d=\"M17.41 7.96l-1.37-1.37c-.4-.4-.92-.59-1.43-.59-.52 0-1.04.2-1.43.59L10.3 9.45l-7.72 7.72c-.78.78-.78 2.05 0 2.83L4 21.41c.39.39.9.59 1.41.59.51 0 1.02-.2 1.41-.59l7.78-7.78 2.81-2.81c.8-.78.8-2.07 0-2.86zM5.41 20L4 18.59l7.72-7.72 1.47 1.35L5.41 20z\"/>\n",
              "  </svg>\n",
              "      </button>\n",
              "      \n",
              "  <style>\n",
              "    .colab-df-container {\n",
              "      display:flex;\n",
              "      flex-wrap:wrap;\n",
              "      gap: 12px;\n",
              "    }\n",
              "\n",
              "    .colab-df-convert {\n",
              "      background-color: #E8F0FE;\n",
              "      border: none;\n",
              "      border-radius: 50%;\n",
              "      cursor: pointer;\n",
              "      display: none;\n",
              "      fill: #1967D2;\n",
              "      height: 32px;\n",
              "      padding: 0 0 0 0;\n",
              "      width: 32px;\n",
              "    }\n",
              "\n",
              "    .colab-df-convert:hover {\n",
              "      background-color: #E2EBFA;\n",
              "      box-shadow: 0px 1px 2px rgba(60, 64, 67, 0.3), 0px 1px 3px 1px rgba(60, 64, 67, 0.15);\n",
              "      fill: #174EA6;\n",
              "    }\n",
              "\n",
              "    [theme=dark] .colab-df-convert {\n",
              "      background-color: #3B4455;\n",
              "      fill: #D2E3FC;\n",
              "    }\n",
              "\n",
              "    [theme=dark] .colab-df-convert:hover {\n",
              "      background-color: #434B5C;\n",
              "      box-shadow: 0px 1px 3px 1px rgba(0, 0, 0, 0.15);\n",
              "      filter: drop-shadow(0px 1px 2px rgba(0, 0, 0, 0.3));\n",
              "      fill: #FFFFFF;\n",
              "    }\n",
              "  </style>\n",
              "\n",
              "      <script>\n",
              "        const buttonEl =\n",
              "          document.querySelector('#df-e2aa822f-ce30-4660-82db-0c557fa69129 button.colab-df-convert');\n",
              "        buttonEl.style.display =\n",
              "          google.colab.kernel.accessAllowed ? 'block' : 'none';\n",
              "\n",
              "        async function convertToInteractive(key) {\n",
              "          const element = document.querySelector('#df-e2aa822f-ce30-4660-82db-0c557fa69129');\n",
              "          const dataTable =\n",
              "            await google.colab.kernel.invokeFunction('convertToInteractive',\n",
              "                                                     [key], {});\n",
              "          if (!dataTable) return;\n",
              "\n",
              "          const docLinkHtml = 'Like what you see? Visit the ' +\n",
              "            '<a target=\"_blank\" href=https://colab.research.google.com/notebooks/data_table.ipynb>data table notebook</a>'\n",
              "            + ' to learn more about interactive tables.';\n",
              "          element.innerHTML = '';\n",
              "          dataTable['output_type'] = 'display_data';\n",
              "          await google.colab.output.renderOutput(dataTable, element);\n",
              "          const docLink = document.createElement('div');\n",
              "          docLink.innerHTML = docLinkHtml;\n",
              "          element.appendChild(docLink);\n",
              "        }\n",
              "      </script>\n",
              "    </div>\n",
              "  </div>\n",
              "  "
            ],
            "text/plain": [
              "          C/A  UNIT       SCP         STATION        DATE      TIME  ENTRIES\n",
              "0        A002  R051  02-00-00           59 ST  01/01/2021  03:00:00        1\n",
              "7234026  R139  R031  04-00-00  34 ST-PENN STA  04/23/2021  12:00:00        1\n",
              "7234028  R139  R031  04-00-00  34 ST-PENN STA  04/23/2021  20:00:00        1\n",
              "7234029  R139  R031  04-00-00  34 ST-PENN STA  04/24/2021  00:00:00        1\n",
              "7234030  R139  R031  04-00-00  34 ST-PENN STA  04/24/2021  04:00:00        1"
            ]
          },
          "metadata": {},
          "execution_count": 11
        }
      ]
    },
    {
      "cell_type": "code",
      "metadata": {
        "id": "0QmKDM5vbHeO",
        "colab": {
          "base_uri": "https://localhost:8080/",
          "height": 424
        },
        "outputId": "f738ca62-fe10-4287-d7a9-bb53467bf6ff"
      },
      "source": [
        "#create data for week of year column\n",
        "df['Week_of_Year'] = pd.to_datetime(df['DATE']).dt.strftime('%Y-%U')\n",
        "df"
      ],
      "execution_count": null,
      "outputs": [
        {
          "output_type": "execute_result",
          "data": {
            "text/html": [
              "\n",
              "  <div id=\"df-74bddb69-c7d1-4543-8270-49671ed267af\">\n",
              "    <div class=\"colab-df-container\">\n",
              "      <div>\n",
              "<style scoped>\n",
              "    .dataframe tbody tr th:only-of-type {\n",
              "        vertical-align: middle;\n",
              "    }\n",
              "\n",
              "    .dataframe tbody tr th {\n",
              "        vertical-align: top;\n",
              "    }\n",
              "\n",
              "    .dataframe thead th {\n",
              "        text-align: right;\n",
              "    }\n",
              "</style>\n",
              "<table border=\"1\" class=\"dataframe\">\n",
              "  <thead>\n",
              "    <tr style=\"text-align: right;\">\n",
              "      <th></th>\n",
              "      <th>C/A</th>\n",
              "      <th>UNIT</th>\n",
              "      <th>SCP</th>\n",
              "      <th>STATION</th>\n",
              "      <th>LINENAME</th>\n",
              "      <th>DIVISION</th>\n",
              "      <th>DATE</th>\n",
              "      <th>TIME</th>\n",
              "      <th>DESC</th>\n",
              "      <th>ENTRIES</th>\n",
              "      <th>EXITS</th>\n",
              "      <th>Week_of_Year</th>\n",
              "    </tr>\n",
              "  </thead>\n",
              "  <tbody>\n",
              "    <tr>\n",
              "      <th>0</th>\n",
              "      <td>A002</td>\n",
              "      <td>R051</td>\n",
              "      <td>02-00-00</td>\n",
              "      <td>59 ST</td>\n",
              "      <td>NQR456W</td>\n",
              "      <td>BMT</td>\n",
              "      <td>12/18/2021</td>\n",
              "      <td>03:00:00</td>\n",
              "      <td>REGULAR</td>\n",
              "      <td>7672966</td>\n",
              "      <td>2645023</td>\n",
              "      <td>2021-50</td>\n",
              "    </tr>\n",
              "    <tr>\n",
              "      <th>1</th>\n",
              "      <td>A002</td>\n",
              "      <td>R051</td>\n",
              "      <td>02-00-00</td>\n",
              "      <td>59 ST</td>\n",
              "      <td>NQR456W</td>\n",
              "      <td>BMT</td>\n",
              "      <td>12/18/2021</td>\n",
              "      <td>07:00:00</td>\n",
              "      <td>REGULAR</td>\n",
              "      <td>7672969</td>\n",
              "      <td>2645040</td>\n",
              "      <td>2021-50</td>\n",
              "    </tr>\n",
              "    <tr>\n",
              "      <th>2</th>\n",
              "      <td>A002</td>\n",
              "      <td>R051</td>\n",
              "      <td>02-00-00</td>\n",
              "      <td>59 ST</td>\n",
              "      <td>NQR456W</td>\n",
              "      <td>BMT</td>\n",
              "      <td>12/18/2021</td>\n",
              "      <td>11:00:00</td>\n",
              "      <td>REGULAR</td>\n",
              "      <td>7672991</td>\n",
              "      <td>2645127</td>\n",
              "      <td>2021-50</td>\n",
              "    </tr>\n",
              "    <tr>\n",
              "      <th>3</th>\n",
              "      <td>A002</td>\n",
              "      <td>R051</td>\n",
              "      <td>02-00-00</td>\n",
              "      <td>59 ST</td>\n",
              "      <td>NQR456W</td>\n",
              "      <td>BMT</td>\n",
              "      <td>12/18/2021</td>\n",
              "      <td>15:00:00</td>\n",
              "      <td>REGULAR</td>\n",
              "      <td>7673037</td>\n",
              "      <td>2645193</td>\n",
              "      <td>2021-50</td>\n",
              "    </tr>\n",
              "    <tr>\n",
              "      <th>4</th>\n",
              "      <td>A002</td>\n",
              "      <td>R051</td>\n",
              "      <td>02-00-00</td>\n",
              "      <td>59 ST</td>\n",
              "      <td>NQR456W</td>\n",
              "      <td>BMT</td>\n",
              "      <td>12/18/2021</td>\n",
              "      <td>19:00:00</td>\n",
              "      <td>REGULAR</td>\n",
              "      <td>7673097</td>\n",
              "      <td>2645270</td>\n",
              "      <td>2021-50</td>\n",
              "    </tr>\n",
              "    <tr>\n",
              "      <th>...</th>\n",
              "      <td>...</td>\n",
              "      <td>...</td>\n",
              "      <td>...</td>\n",
              "      <td>...</td>\n",
              "      <td>...</td>\n",
              "      <td>...</td>\n",
              "      <td>...</td>\n",
              "      <td>...</td>\n",
              "      <td>...</td>\n",
              "      <td>...</td>\n",
              "      <td>...</td>\n",
              "      <td>...</td>\n",
              "    </tr>\n",
              "    <tr>\n",
              "      <th>210428</th>\n",
              "      <td>TRAM2</td>\n",
              "      <td>R469</td>\n",
              "      <td>00-05-01</td>\n",
              "      <td>RIT-ROOSEVELT</td>\n",
              "      <td>R</td>\n",
              "      <td>RIT</td>\n",
              "      <td>01/01/2021</td>\n",
              "      <td>04:00:00</td>\n",
              "      <td>REGULAR</td>\n",
              "      <td>5554</td>\n",
              "      <td>541</td>\n",
              "      <td>2021-00</td>\n",
              "    </tr>\n",
              "    <tr>\n",
              "      <th>210429</th>\n",
              "      <td>TRAM2</td>\n",
              "      <td>R469</td>\n",
              "      <td>00-05-01</td>\n",
              "      <td>RIT-ROOSEVELT</td>\n",
              "      <td>R</td>\n",
              "      <td>RIT</td>\n",
              "      <td>01/01/2021</td>\n",
              "      <td>08:00:00</td>\n",
              "      <td>REGULAR</td>\n",
              "      <td>5554</td>\n",
              "      <td>541</td>\n",
              "      <td>2021-00</td>\n",
              "    </tr>\n",
              "    <tr>\n",
              "      <th>210430</th>\n",
              "      <td>TRAM2</td>\n",
              "      <td>R469</td>\n",
              "      <td>00-05-01</td>\n",
              "      <td>RIT-ROOSEVELT</td>\n",
              "      <td>R</td>\n",
              "      <td>RIT</td>\n",
              "      <td>01/01/2021</td>\n",
              "      <td>12:00:00</td>\n",
              "      <td>REGULAR</td>\n",
              "      <td>5554</td>\n",
              "      <td>541</td>\n",
              "      <td>2021-00</td>\n",
              "    </tr>\n",
              "    <tr>\n",
              "      <th>210431</th>\n",
              "      <td>TRAM2</td>\n",
              "      <td>R469</td>\n",
              "      <td>00-05-01</td>\n",
              "      <td>RIT-ROOSEVELT</td>\n",
              "      <td>R</td>\n",
              "      <td>RIT</td>\n",
              "      <td>01/01/2021</td>\n",
              "      <td>16:00:00</td>\n",
              "      <td>REGULAR</td>\n",
              "      <td>5554</td>\n",
              "      <td>541</td>\n",
              "      <td>2021-00</td>\n",
              "    </tr>\n",
              "    <tr>\n",
              "      <th>210432</th>\n",
              "      <td>TRAM2</td>\n",
              "      <td>R469</td>\n",
              "      <td>00-05-01</td>\n",
              "      <td>RIT-ROOSEVELT</td>\n",
              "      <td>R</td>\n",
              "      <td>RIT</td>\n",
              "      <td>01/01/2021</td>\n",
              "      <td>20:00:00</td>\n",
              "      <td>REGULAR</td>\n",
              "      <td>5554</td>\n",
              "      <td>541</td>\n",
              "      <td>2021-00</td>\n",
              "    </tr>\n",
              "  </tbody>\n",
              "</table>\n",
              "<p>10851050 rows × 12 columns</p>\n",
              "</div>\n",
              "      <button class=\"colab-df-convert\" onclick=\"convertToInteractive('df-74bddb69-c7d1-4543-8270-49671ed267af')\"\n",
              "              title=\"Convert this dataframe to an interactive table.\"\n",
              "              style=\"display:none;\">\n",
              "        \n",
              "  <svg xmlns=\"http://www.w3.org/2000/svg\" height=\"24px\"viewBox=\"0 0 24 24\"\n",
              "       width=\"24px\">\n",
              "    <path d=\"M0 0h24v24H0V0z\" fill=\"none\"/>\n",
              "    <path d=\"M18.56 5.44l.94 2.06.94-2.06 2.06-.94-2.06-.94-.94-2.06-.94 2.06-2.06.94zm-11 1L8.5 8.5l.94-2.06 2.06-.94-2.06-.94L8.5 2.5l-.94 2.06-2.06.94zm10 10l.94 2.06.94-2.06 2.06-.94-2.06-.94-.94-2.06-.94 2.06-2.06.94z\"/><path d=\"M17.41 7.96l-1.37-1.37c-.4-.4-.92-.59-1.43-.59-.52 0-1.04.2-1.43.59L10.3 9.45l-7.72 7.72c-.78.78-.78 2.05 0 2.83L4 21.41c.39.39.9.59 1.41.59.51 0 1.02-.2 1.41-.59l7.78-7.78 2.81-2.81c.8-.78.8-2.07 0-2.86zM5.41 20L4 18.59l7.72-7.72 1.47 1.35L5.41 20z\"/>\n",
              "  </svg>\n",
              "      </button>\n",
              "      \n",
              "  <style>\n",
              "    .colab-df-container {\n",
              "      display:flex;\n",
              "      flex-wrap:wrap;\n",
              "      gap: 12px;\n",
              "    }\n",
              "\n",
              "    .colab-df-convert {\n",
              "      background-color: #E8F0FE;\n",
              "      border: none;\n",
              "      border-radius: 50%;\n",
              "      cursor: pointer;\n",
              "      display: none;\n",
              "      fill: #1967D2;\n",
              "      height: 32px;\n",
              "      padding: 0 0 0 0;\n",
              "      width: 32px;\n",
              "    }\n",
              "\n",
              "    .colab-df-convert:hover {\n",
              "      background-color: #E2EBFA;\n",
              "      box-shadow: 0px 1px 2px rgba(60, 64, 67, 0.3), 0px 1px 3px 1px rgba(60, 64, 67, 0.15);\n",
              "      fill: #174EA6;\n",
              "    }\n",
              "\n",
              "    [theme=dark] .colab-df-convert {\n",
              "      background-color: #3B4455;\n",
              "      fill: #D2E3FC;\n",
              "    }\n",
              "\n",
              "    [theme=dark] .colab-df-convert:hover {\n",
              "      background-color: #434B5C;\n",
              "      box-shadow: 0px 1px 3px 1px rgba(0, 0, 0, 0.15);\n",
              "      filter: drop-shadow(0px 1px 2px rgba(0, 0, 0, 0.3));\n",
              "      fill: #FFFFFF;\n",
              "    }\n",
              "  </style>\n",
              "\n",
              "      <script>\n",
              "        const buttonEl =\n",
              "          document.querySelector('#df-74bddb69-c7d1-4543-8270-49671ed267af button.colab-df-convert');\n",
              "        buttonEl.style.display =\n",
              "          google.colab.kernel.accessAllowed ? 'block' : 'none';\n",
              "\n",
              "        async function convertToInteractive(key) {\n",
              "          const element = document.querySelector('#df-74bddb69-c7d1-4543-8270-49671ed267af');\n",
              "          const dataTable =\n",
              "            await google.colab.kernel.invokeFunction('convertToInteractive',\n",
              "                                                     [key], {});\n",
              "          if (!dataTable) return;\n",
              "\n",
              "          const docLinkHtml = 'Like what you see? Visit the ' +\n",
              "            '<a target=\"_blank\" href=https://colab.research.google.com/notebooks/data_table.ipynb>data table notebook</a>'\n",
              "            + ' to learn more about interactive tables.';\n",
              "          element.innerHTML = '';\n",
              "          dataTable['output_type'] = 'display_data';\n",
              "          await google.colab.output.renderOutput(dataTable, element);\n",
              "          const docLink = document.createElement('div');\n",
              "          docLink.innerHTML = docLinkHtml;\n",
              "          element.appendChild(docLink);\n",
              "        }\n",
              "      </script>\n",
              "    </div>\n",
              "  </div>\n",
              "  "
            ],
            "text/plain": [
              "          C/A  UNIT       SCP        STATION LINENAME DIVISION        DATE  \\\n",
              "0        A002  R051  02-00-00          59 ST  NQR456W      BMT  12/18/2021   \n",
              "1        A002  R051  02-00-00          59 ST  NQR456W      BMT  12/18/2021   \n",
              "2        A002  R051  02-00-00          59 ST  NQR456W      BMT  12/18/2021   \n",
              "3        A002  R051  02-00-00          59 ST  NQR456W      BMT  12/18/2021   \n",
              "4        A002  R051  02-00-00          59 ST  NQR456W      BMT  12/18/2021   \n",
              "...       ...   ...       ...            ...      ...      ...         ...   \n",
              "210428  TRAM2  R469  00-05-01  RIT-ROOSEVELT        R      RIT  01/01/2021   \n",
              "210429  TRAM2  R469  00-05-01  RIT-ROOSEVELT        R      RIT  01/01/2021   \n",
              "210430  TRAM2  R469  00-05-01  RIT-ROOSEVELT        R      RIT  01/01/2021   \n",
              "210431  TRAM2  R469  00-05-01  RIT-ROOSEVELT        R      RIT  01/01/2021   \n",
              "210432  TRAM2  R469  00-05-01  RIT-ROOSEVELT        R      RIT  01/01/2021   \n",
              "\n",
              "            TIME     DESC  ENTRIES    EXITS Week_of_Year  \n",
              "0       03:00:00  REGULAR  7672966  2645023      2021-50  \n",
              "1       07:00:00  REGULAR  7672969  2645040      2021-50  \n",
              "2       11:00:00  REGULAR  7672991  2645127      2021-50  \n",
              "3       15:00:00  REGULAR  7673037  2645193      2021-50  \n",
              "4       19:00:00  REGULAR  7673097  2645270      2021-50  \n",
              "...          ...      ...      ...      ...          ...  \n",
              "210428  04:00:00  REGULAR     5554      541      2021-00  \n",
              "210429  08:00:00  REGULAR     5554      541      2021-00  \n",
              "210430  12:00:00  REGULAR     5554      541      2021-00  \n",
              "210431  16:00:00  REGULAR     5554      541      2021-00  \n",
              "210432  20:00:00  REGULAR     5554      541      2021-00  \n",
              "\n",
              "[10851050 rows x 12 columns]"
            ]
          },
          "metadata": {},
          "execution_count": 12
        }
      ]
    },
    {
      "cell_type": "code",
      "metadata": {
        "id": "TgNjSiblbHeS"
      },
      "source": [
        "Exits_max = df[['Week_of_Year', 'EXITS', 'DATE']].groupby(['Week_of_Year']).max().reset_index()\n",
        "Exits_min = df[['Week_of_Year', 'EXITS', 'DATE']].groupby(['Week_of_Year']).min().reset_index()"
      ],
      "execution_count": null,
      "outputs": []
    },
    {
      "cell_type": "code",
      "metadata": {
        "id": "jCfxwUpMbHeU"
      },
      "source": [
        "#### removing values that appear to be counter resets\n",
        "df_new = df[df.EXITS <= 11000]"
      ],
      "execution_count": null,
      "outputs": []
    },
    {
      "cell_type": "code",
      "metadata": {
        "id": "xDQHhtqIbHeV"
      },
      "source": [
        "Exit = (df.groupby(['C/A', 'UNIT', 'SCP', 'STATION', 'DATE'])['EXITS'].max()\\\n",
        "           -df.groupby(['C/A', 'UNIT', 'SCP', 'STATION', 'DATE'])['EXITS'].min()).reset_index()"
      ],
      "execution_count": null,
      "outputs": []
    },
    {
      "cell_type": "code",
      "metadata": {
        "id": "JPZnjyoXbHeX",
        "colab": {
          "base_uri": "https://localhost:8080/"
        },
        "outputId": "5711b8b1-a064-4ab7-d358-12799a9b19ba"
      },
      "source": [
        "Exit['EXITS'].describe()"
      ],
      "execution_count": null,
      "outputs": [
        {
          "output_type": "execute_result",
          "data": {
            "text/plain": [
              "count    1.817e+06\n",
              "mean     1.800e+04\n",
              "std      4.715e+06\n",
              "min      0.000e+00\n",
              "25%      6.200e+01\n",
              "50%      2.150e+02\n",
              "75%      4.970e+02\n",
              "max      2.134e+09\n",
              "Name: EXITS, dtype: float64"
            ]
          },
          "metadata": {},
          "execution_count": 16
        }
      ]
    },
    {
      "cell_type": "code",
      "metadata": {
        "id": "mzJNubdDbHeZ"
      },
      "source": [
        "Exit = Exit[Exit.EXITS <= 11000]"
      ],
      "execution_count": null,
      "outputs": []
    },
    {
      "cell_type": "code",
      "metadata": {
        "id": "jQToXvTjbHea"
      },
      "source": [
        "Exit['Week_of_Year'] = pd.to_datetime(Exit['DATE']).dt.strftime('%Y-%U')"
      ],
      "execution_count": null,
      "outputs": []
    },
    {
      "cell_type": "code",
      "metadata": {
        "id": "KIpHytY4bHeb"
      },
      "source": [
        "Exit_cnt = Exit[['Week_of_Year', 'EXITS']].groupby(['Week_of_Year']).sum().reset_index().iloc[3:].reset_index(drop = True) "
      ],
      "execution_count": null,
      "outputs": []
    },
    {
      "cell_type": "code",
      "metadata": {
        "id": "Bc0ay6X2bHec"
      },
      "source": [
        "Exit_cnt = Exit_cnt[Exit_cnt['Week_of_Year'] != '2021-00'].reset_index(drop = True) "
      ],
      "execution_count": null,
      "outputs": []
    },
    {
      "cell_type": "code",
      "metadata": {
        "id": "hBmdPQfxbHee",
        "colab": {
          "base_uri": "https://localhost:8080/",
          "height": 81
        },
        "outputId": "210b5851-14b1-4399-c1ec-e472996d2547"
      },
      "source": [
        "Exit_cnt[Exit_cnt['Week_of_Year'] == '2021-01']"
      ],
      "execution_count": null,
      "outputs": [
        {
          "output_type": "execute_result",
          "data": {
            "text/html": [
              "\n",
              "  <div id=\"df-8946c5d7-b20c-469b-9265-951f1595c36c\">\n",
              "    <div class=\"colab-df-container\">\n",
              "      <div>\n",
              "<style scoped>\n",
              "    .dataframe tbody tr th:only-of-type {\n",
              "        vertical-align: middle;\n",
              "    }\n",
              "\n",
              "    .dataframe tbody tr th {\n",
              "        vertical-align: top;\n",
              "    }\n",
              "\n",
              "    .dataframe thead th {\n",
              "        text-align: right;\n",
              "    }\n",
              "</style>\n",
              "<table border=\"1\" class=\"dataframe\">\n",
              "  <thead>\n",
              "    <tr style=\"text-align: right;\">\n",
              "      <th></th>\n",
              "      <th>Week_of_Year</th>\n",
              "      <th>EXITS</th>\n",
              "    </tr>\n",
              "  </thead>\n",
              "  <tbody>\n",
              "    <tr>\n",
              "      <th>0</th>\n",
              "      <td>2021-01</td>\n",
              "      <td>9003484</td>\n",
              "    </tr>\n",
              "  </tbody>\n",
              "</table>\n",
              "</div>\n",
              "      <button class=\"colab-df-convert\" onclick=\"convertToInteractive('df-8946c5d7-b20c-469b-9265-951f1595c36c')\"\n",
              "              title=\"Convert this dataframe to an interactive table.\"\n",
              "              style=\"display:none;\">\n",
              "        \n",
              "  <svg xmlns=\"http://www.w3.org/2000/svg\" height=\"24px\"viewBox=\"0 0 24 24\"\n",
              "       width=\"24px\">\n",
              "    <path d=\"M0 0h24v24H0V0z\" fill=\"none\"/>\n",
              "    <path d=\"M18.56 5.44l.94 2.06.94-2.06 2.06-.94-2.06-.94-.94-2.06-.94 2.06-2.06.94zm-11 1L8.5 8.5l.94-2.06 2.06-.94-2.06-.94L8.5 2.5l-.94 2.06-2.06.94zm10 10l.94 2.06.94-2.06 2.06-.94-2.06-.94-.94-2.06-.94 2.06-2.06.94z\"/><path d=\"M17.41 7.96l-1.37-1.37c-.4-.4-.92-.59-1.43-.59-.52 0-1.04.2-1.43.59L10.3 9.45l-7.72 7.72c-.78.78-.78 2.05 0 2.83L4 21.41c.39.39.9.59 1.41.59.51 0 1.02-.2 1.41-.59l7.78-7.78 2.81-2.81c.8-.78.8-2.07 0-2.86zM5.41 20L4 18.59l7.72-7.72 1.47 1.35L5.41 20z\"/>\n",
              "  </svg>\n",
              "      </button>\n",
              "      \n",
              "  <style>\n",
              "    .colab-df-container {\n",
              "      display:flex;\n",
              "      flex-wrap:wrap;\n",
              "      gap: 12px;\n",
              "    }\n",
              "\n",
              "    .colab-df-convert {\n",
              "      background-color: #E8F0FE;\n",
              "      border: none;\n",
              "      border-radius: 50%;\n",
              "      cursor: pointer;\n",
              "      display: none;\n",
              "      fill: #1967D2;\n",
              "      height: 32px;\n",
              "      padding: 0 0 0 0;\n",
              "      width: 32px;\n",
              "    }\n",
              "\n",
              "    .colab-df-convert:hover {\n",
              "      background-color: #E2EBFA;\n",
              "      box-shadow: 0px 1px 2px rgba(60, 64, 67, 0.3), 0px 1px 3px 1px rgba(60, 64, 67, 0.15);\n",
              "      fill: #174EA6;\n",
              "    }\n",
              "\n",
              "    [theme=dark] .colab-df-convert {\n",
              "      background-color: #3B4455;\n",
              "      fill: #D2E3FC;\n",
              "    }\n",
              "\n",
              "    [theme=dark] .colab-df-convert:hover {\n",
              "      background-color: #434B5C;\n",
              "      box-shadow: 0px 1px 3px 1px rgba(0, 0, 0, 0.15);\n",
              "      filter: drop-shadow(0px 1px 2px rgba(0, 0, 0, 0.3));\n",
              "      fill: #FFFFFF;\n",
              "    }\n",
              "  </style>\n",
              "\n",
              "      <script>\n",
              "        const buttonEl =\n",
              "          document.querySelector('#df-8946c5d7-b20c-469b-9265-951f1595c36c button.colab-df-convert');\n",
              "        buttonEl.style.display =\n",
              "          google.colab.kernel.accessAllowed ? 'block' : 'none';\n",
              "\n",
              "        async function convertToInteractive(key) {\n",
              "          const element = document.querySelector('#df-8946c5d7-b20c-469b-9265-951f1595c36c');\n",
              "          const dataTable =\n",
              "            await google.colab.kernel.invokeFunction('convertToInteractive',\n",
              "                                                     [key], {});\n",
              "          if (!dataTable) return;\n",
              "\n",
              "          const docLinkHtml = 'Like what you see? Visit the ' +\n",
              "            '<a target=\"_blank\" href=https://colab.research.google.com/notebooks/data_table.ipynb>data table notebook</a>'\n",
              "            + ' to learn more about interactive tables.';\n",
              "          element.innerHTML = '';\n",
              "          dataTable['output_type'] = 'display_data';\n",
              "          await google.colab.output.renderOutput(dataTable, element);\n",
              "          const docLink = document.createElement('div');\n",
              "          docLink.innerHTML = docLinkHtml;\n",
              "          element.appendChild(docLink);\n",
              "        }\n",
              "      </script>\n",
              "    </div>\n",
              "  </div>\n",
              "  "
            ],
            "text/plain": [
              "  Week_of_Year    EXITS\n",
              "0      2021-01  9003484"
            ]
          },
          "metadata": {},
          "execution_count": 21
        }
      ]
    },
    {
      "cell_type": "code",
      "metadata": {
        "id": "nUK8WJjMrEI6"
      },
      "source": [
        "Exit_2021 = Exit_cnt[Exit_cnt['Week_of_Year'] >= '2021-00'].reset_index(drop = True)\n",
        "Exit_2021['Year'] = '2021'\n",
        "Exit_2021['Week Num'] = Exit_2021['Week_of_Year'].apply(lambda x: x.split('-')[1])"
      ],
      "execution_count": null,
      "outputs": []
    },
    {
      "cell_type": "code",
      "metadata": {
        "id": "sKXPH1JdbHeg"
      },
      "source": [
        "import datetime\n",
        "import warnings\n",
        "warnings.filterwarnings(\"ignore\")\n",
        "Exit_2021['Week_of_Year'] = Exit_2021['Week_of_Year'].apply(lambda x: datetime.datetime.strptime(x + '-1', \"%Y-%W-%w\"))\n",
        "Exit_2021['Week_of_Year'] = Exit_2021['Week_of_Year'].dt.strftime(\"%m-%d\")"
      ],
      "execution_count": null,
      "outputs": []
    },
    {
      "cell_type": "code",
      "metadata": {
        "colab": {
          "base_uri": "https://localhost:8080/"
        },
        "id": "Leuf-6VbqIWq",
        "outputId": "4163984e-16bb-47db-888d-122a2b942fff"
      },
      "source": [
        "print(pd.concat([Exit_2021]))\n",
        "Exit_result = pd.concat([Exit_2021]).reset_index(drop = True)"
      ],
      "execution_count": null,
      "outputs": [
        {
          "output_type": "stream",
          "name": "stdout",
          "text": [
            "   Week_of_Year     EXITS  Year Week Num\n",
            "0         01-04   9003484  2021       01\n",
            "1         01-11   9139851  2021       02\n",
            "2         01-18   8962914  2021       03\n",
            "3         01-25   8939227  2021       04\n",
            "4         02-01   8097037  2021       05\n",
            "..          ...       ...   ...      ...\n",
            "46        11-22  14806595  2021       47\n",
            "47        11-29  17651359  2021       48\n",
            "48        12-06  18278979  2021       49\n",
            "49        12-13  17481855  2021       50\n",
            "50        12-20  12429014  2021       51\n",
            "\n",
            "[51 rows x 4 columns]\n"
          ]
        }
      ]
    },
    {
      "cell_type": "code",
      "metadata": {
        "id": "35HsPhaDo3fr",
        "colab": {
          "base_uri": "https://localhost:8080/",
          "height": 206
        },
        "outputId": "250ec3a2-e389-47b6-de23-6c29fa49eda5"
      },
      "source": [
        "Exit_result.head()"
      ],
      "execution_count": null,
      "outputs": [
        {
          "output_type": "execute_result",
          "data": {
            "text/html": [
              "\n",
              "  <div id=\"df-9e72e872-f4d4-42ff-96c7-d0f8f99853f6\">\n",
              "    <div class=\"colab-df-container\">\n",
              "      <div>\n",
              "<style scoped>\n",
              "    .dataframe tbody tr th:only-of-type {\n",
              "        vertical-align: middle;\n",
              "    }\n",
              "\n",
              "    .dataframe tbody tr th {\n",
              "        vertical-align: top;\n",
              "    }\n",
              "\n",
              "    .dataframe thead th {\n",
              "        text-align: right;\n",
              "    }\n",
              "</style>\n",
              "<table border=\"1\" class=\"dataframe\">\n",
              "  <thead>\n",
              "    <tr style=\"text-align: right;\">\n",
              "      <th></th>\n",
              "      <th>Week_of_Year</th>\n",
              "      <th>EXITS</th>\n",
              "      <th>Year</th>\n",
              "      <th>Week Num</th>\n",
              "    </tr>\n",
              "  </thead>\n",
              "  <tbody>\n",
              "    <tr>\n",
              "      <th>0</th>\n",
              "      <td>01-04</td>\n",
              "      <td>9003484</td>\n",
              "      <td>2021</td>\n",
              "      <td>01</td>\n",
              "    </tr>\n",
              "    <tr>\n",
              "      <th>1</th>\n",
              "      <td>01-11</td>\n",
              "      <td>9139851</td>\n",
              "      <td>2021</td>\n",
              "      <td>02</td>\n",
              "    </tr>\n",
              "    <tr>\n",
              "      <th>2</th>\n",
              "      <td>01-18</td>\n",
              "      <td>8962914</td>\n",
              "      <td>2021</td>\n",
              "      <td>03</td>\n",
              "    </tr>\n",
              "    <tr>\n",
              "      <th>3</th>\n",
              "      <td>01-25</td>\n",
              "      <td>8939227</td>\n",
              "      <td>2021</td>\n",
              "      <td>04</td>\n",
              "    </tr>\n",
              "    <tr>\n",
              "      <th>4</th>\n",
              "      <td>02-01</td>\n",
              "      <td>8097037</td>\n",
              "      <td>2021</td>\n",
              "      <td>05</td>\n",
              "    </tr>\n",
              "  </tbody>\n",
              "</table>\n",
              "</div>\n",
              "      <button class=\"colab-df-convert\" onclick=\"convertToInteractive('df-9e72e872-f4d4-42ff-96c7-d0f8f99853f6')\"\n",
              "              title=\"Convert this dataframe to an interactive table.\"\n",
              "              style=\"display:none;\">\n",
              "        \n",
              "  <svg xmlns=\"http://www.w3.org/2000/svg\" height=\"24px\"viewBox=\"0 0 24 24\"\n",
              "       width=\"24px\">\n",
              "    <path d=\"M0 0h24v24H0V0z\" fill=\"none\"/>\n",
              "    <path d=\"M18.56 5.44l.94 2.06.94-2.06 2.06-.94-2.06-.94-.94-2.06-.94 2.06-2.06.94zm-11 1L8.5 8.5l.94-2.06 2.06-.94-2.06-.94L8.5 2.5l-.94 2.06-2.06.94zm10 10l.94 2.06.94-2.06 2.06-.94-2.06-.94-.94-2.06-.94 2.06-2.06.94z\"/><path d=\"M17.41 7.96l-1.37-1.37c-.4-.4-.92-.59-1.43-.59-.52 0-1.04.2-1.43.59L10.3 9.45l-7.72 7.72c-.78.78-.78 2.05 0 2.83L4 21.41c.39.39.9.59 1.41.59.51 0 1.02-.2 1.41-.59l7.78-7.78 2.81-2.81c.8-.78.8-2.07 0-2.86zM5.41 20L4 18.59l7.72-7.72 1.47 1.35L5.41 20z\"/>\n",
              "  </svg>\n",
              "      </button>\n",
              "      \n",
              "  <style>\n",
              "    .colab-df-container {\n",
              "      display:flex;\n",
              "      flex-wrap:wrap;\n",
              "      gap: 12px;\n",
              "    }\n",
              "\n",
              "    .colab-df-convert {\n",
              "      background-color: #E8F0FE;\n",
              "      border: none;\n",
              "      border-radius: 50%;\n",
              "      cursor: pointer;\n",
              "      display: none;\n",
              "      fill: #1967D2;\n",
              "      height: 32px;\n",
              "      padding: 0 0 0 0;\n",
              "      width: 32px;\n",
              "    }\n",
              "\n",
              "    .colab-df-convert:hover {\n",
              "      background-color: #E2EBFA;\n",
              "      box-shadow: 0px 1px 2px rgba(60, 64, 67, 0.3), 0px 1px 3px 1px rgba(60, 64, 67, 0.15);\n",
              "      fill: #174EA6;\n",
              "    }\n",
              "\n",
              "    [theme=dark] .colab-df-convert {\n",
              "      background-color: #3B4455;\n",
              "      fill: #D2E3FC;\n",
              "    }\n",
              "\n",
              "    [theme=dark] .colab-df-convert:hover {\n",
              "      background-color: #434B5C;\n",
              "      box-shadow: 0px 1px 3px 1px rgba(0, 0, 0, 0.15);\n",
              "      filter: drop-shadow(0px 1px 2px rgba(0, 0, 0, 0.3));\n",
              "      fill: #FFFFFF;\n",
              "    }\n",
              "  </style>\n",
              "\n",
              "      <script>\n",
              "        const buttonEl =\n",
              "          document.querySelector('#df-9e72e872-f4d4-42ff-96c7-d0f8f99853f6 button.colab-df-convert');\n",
              "        buttonEl.style.display =\n",
              "          google.colab.kernel.accessAllowed ? 'block' : 'none';\n",
              "\n",
              "        async function convertToInteractive(key) {\n",
              "          const element = document.querySelector('#df-9e72e872-f4d4-42ff-96c7-d0f8f99853f6');\n",
              "          const dataTable =\n",
              "            await google.colab.kernel.invokeFunction('convertToInteractive',\n",
              "                                                     [key], {});\n",
              "          if (!dataTable) return;\n",
              "\n",
              "          const docLinkHtml = 'Like what you see? Visit the ' +\n",
              "            '<a target=\"_blank\" href=https://colab.research.google.com/notebooks/data_table.ipynb>data table notebook</a>'\n",
              "            + ' to learn more about interactive tables.';\n",
              "          element.innerHTML = '';\n",
              "          dataTable['output_type'] = 'display_data';\n",
              "          await google.colab.output.renderOutput(dataTable, element);\n",
              "          const docLink = document.createElement('div');\n",
              "          docLink.innerHTML = docLinkHtml;\n",
              "          element.appendChild(docLink);\n",
              "        }\n",
              "      </script>\n",
              "    </div>\n",
              "  </div>\n",
              "  "
            ],
            "text/plain": [
              "  Week_of_Year    EXITS  Year Week Num\n",
              "0        01-04  9003484  2021       01\n",
              "1        01-11  9139851  2021       02\n",
              "2        01-18  8962914  2021       03\n",
              "3        01-25  8939227  2021       04\n",
              "4        02-01  8097037  2021       05"
            ]
          },
          "metadata": {},
          "execution_count": 25
        }
      ]
    },
    {
      "cell_type": "code",
      "source": [
        "Exit_result.tail()"
      ],
      "metadata": {
        "colab": {
          "base_uri": "https://localhost:8080/",
          "height": 206
        },
        "id": "KZzpbOKDnzrl",
        "outputId": "9f56a6a0-7f3b-41c8-cbb1-c02ee07ce61b"
      },
      "execution_count": null,
      "outputs": [
        {
          "output_type": "execute_result",
          "data": {
            "text/html": [
              "\n",
              "  <div id=\"df-0727fd93-6558-4ef6-b201-73b97e6ee7ca\">\n",
              "    <div class=\"colab-df-container\">\n",
              "      <div>\n",
              "<style scoped>\n",
              "    .dataframe tbody tr th:only-of-type {\n",
              "        vertical-align: middle;\n",
              "    }\n",
              "\n",
              "    .dataframe tbody tr th {\n",
              "        vertical-align: top;\n",
              "    }\n",
              "\n",
              "    .dataframe thead th {\n",
              "        text-align: right;\n",
              "    }\n",
              "</style>\n",
              "<table border=\"1\" class=\"dataframe\">\n",
              "  <thead>\n",
              "    <tr style=\"text-align: right;\">\n",
              "      <th></th>\n",
              "      <th>Week_of_Year</th>\n",
              "      <th>EXITS</th>\n",
              "      <th>Year</th>\n",
              "      <th>Week Num</th>\n",
              "    </tr>\n",
              "  </thead>\n",
              "  <tbody>\n",
              "    <tr>\n",
              "      <th>46</th>\n",
              "      <td>11-22</td>\n",
              "      <td>14806595</td>\n",
              "      <td>2021</td>\n",
              "      <td>47</td>\n",
              "    </tr>\n",
              "    <tr>\n",
              "      <th>47</th>\n",
              "      <td>11-29</td>\n",
              "      <td>17651359</td>\n",
              "      <td>2021</td>\n",
              "      <td>48</td>\n",
              "    </tr>\n",
              "    <tr>\n",
              "      <th>48</th>\n",
              "      <td>12-06</td>\n",
              "      <td>18278979</td>\n",
              "      <td>2021</td>\n",
              "      <td>49</td>\n",
              "    </tr>\n",
              "    <tr>\n",
              "      <th>49</th>\n",
              "      <td>12-13</td>\n",
              "      <td>17481855</td>\n",
              "      <td>2021</td>\n",
              "      <td>50</td>\n",
              "    </tr>\n",
              "    <tr>\n",
              "      <th>50</th>\n",
              "      <td>12-20</td>\n",
              "      <td>12429014</td>\n",
              "      <td>2021</td>\n",
              "      <td>51</td>\n",
              "    </tr>\n",
              "  </tbody>\n",
              "</table>\n",
              "</div>\n",
              "      <button class=\"colab-df-convert\" onclick=\"convertToInteractive('df-0727fd93-6558-4ef6-b201-73b97e6ee7ca')\"\n",
              "              title=\"Convert this dataframe to an interactive table.\"\n",
              "              style=\"display:none;\">\n",
              "        \n",
              "  <svg xmlns=\"http://www.w3.org/2000/svg\" height=\"24px\"viewBox=\"0 0 24 24\"\n",
              "       width=\"24px\">\n",
              "    <path d=\"M0 0h24v24H0V0z\" fill=\"none\"/>\n",
              "    <path d=\"M18.56 5.44l.94 2.06.94-2.06 2.06-.94-2.06-.94-.94-2.06-.94 2.06-2.06.94zm-11 1L8.5 8.5l.94-2.06 2.06-.94-2.06-.94L8.5 2.5l-.94 2.06-2.06.94zm10 10l.94 2.06.94-2.06 2.06-.94-2.06-.94-.94-2.06-.94 2.06-2.06.94z\"/><path d=\"M17.41 7.96l-1.37-1.37c-.4-.4-.92-.59-1.43-.59-.52 0-1.04.2-1.43.59L10.3 9.45l-7.72 7.72c-.78.78-.78 2.05 0 2.83L4 21.41c.39.39.9.59 1.41.59.51 0 1.02-.2 1.41-.59l7.78-7.78 2.81-2.81c.8-.78.8-2.07 0-2.86zM5.41 20L4 18.59l7.72-7.72 1.47 1.35L5.41 20z\"/>\n",
              "  </svg>\n",
              "      </button>\n",
              "      \n",
              "  <style>\n",
              "    .colab-df-container {\n",
              "      display:flex;\n",
              "      flex-wrap:wrap;\n",
              "      gap: 12px;\n",
              "    }\n",
              "\n",
              "    .colab-df-convert {\n",
              "      background-color: #E8F0FE;\n",
              "      border: none;\n",
              "      border-radius: 50%;\n",
              "      cursor: pointer;\n",
              "      display: none;\n",
              "      fill: #1967D2;\n",
              "      height: 32px;\n",
              "      padding: 0 0 0 0;\n",
              "      width: 32px;\n",
              "    }\n",
              "\n",
              "    .colab-df-convert:hover {\n",
              "      background-color: #E2EBFA;\n",
              "      box-shadow: 0px 1px 2px rgba(60, 64, 67, 0.3), 0px 1px 3px 1px rgba(60, 64, 67, 0.15);\n",
              "      fill: #174EA6;\n",
              "    }\n",
              "\n",
              "    [theme=dark] .colab-df-convert {\n",
              "      background-color: #3B4455;\n",
              "      fill: #D2E3FC;\n",
              "    }\n",
              "\n",
              "    [theme=dark] .colab-df-convert:hover {\n",
              "      background-color: #434B5C;\n",
              "      box-shadow: 0px 1px 3px 1px rgba(0, 0, 0, 0.15);\n",
              "      filter: drop-shadow(0px 1px 2px rgba(0, 0, 0, 0.3));\n",
              "      fill: #FFFFFF;\n",
              "    }\n",
              "  </style>\n",
              "\n",
              "      <script>\n",
              "        const buttonEl =\n",
              "          document.querySelector('#df-0727fd93-6558-4ef6-b201-73b97e6ee7ca button.colab-df-convert');\n",
              "        buttonEl.style.display =\n",
              "          google.colab.kernel.accessAllowed ? 'block' : 'none';\n",
              "\n",
              "        async function convertToInteractive(key) {\n",
              "          const element = document.querySelector('#df-0727fd93-6558-4ef6-b201-73b97e6ee7ca');\n",
              "          const dataTable =\n",
              "            await google.colab.kernel.invokeFunction('convertToInteractive',\n",
              "                                                     [key], {});\n",
              "          if (!dataTable) return;\n",
              "\n",
              "          const docLinkHtml = 'Like what you see? Visit the ' +\n",
              "            '<a target=\"_blank\" href=https://colab.research.google.com/notebooks/data_table.ipynb>data table notebook</a>'\n",
              "            + ' to learn more about interactive tables.';\n",
              "          element.innerHTML = '';\n",
              "          dataTable['output_type'] = 'display_data';\n",
              "          await google.colab.output.renderOutput(dataTable, element);\n",
              "          const docLink = document.createElement('div');\n",
              "          docLink.innerHTML = docLinkHtml;\n",
              "          element.appendChild(docLink);\n",
              "        }\n",
              "      </script>\n",
              "    </div>\n",
              "  </div>\n",
              "  "
            ],
            "text/plain": [
              "   Week_of_Year     EXITS  Year Week Num\n",
              "46        11-22  14806595  2021       47\n",
              "47        11-29  17651359  2021       48\n",
              "48        12-06  18278979  2021       49\n",
              "49        12-13  17481855  2021       50\n",
              "50        12-20  12429014  2021       51"
            ]
          },
          "metadata": {},
          "execution_count": 26
        }
      ]
    },
    {
      "cell_type": "code",
      "metadata": {
        "id": "g7zqeamBo659"
      },
      "source": [
        "result=Exit_result[Exit_result[\"Week_of_Year\"]<='12-31']"
      ],
      "execution_count": null,
      "outputs": []
    },
    {
      "cell_type": "code",
      "metadata": {
        "id": "W8DvVwNvbHei"
      },
      "source": [
        "#plot bar chart\n",
        "import matplotlib.ticker as mtick\n",
        "import seaborn as sns\n",
        "def bar_plot_2021(df_result):\n",
        "    \n",
        "    f = sns.catplot(\n",
        "    data=df_result,\n",
        "    x='Week_of_Year',\n",
        "    y='EXITS',\n",
        "    hue='Year',\n",
        "    kind='bar',\n",
        "    height=7, \n",
        "    aspect=3.0,\n",
        "    saturation=0.8,\n",
        "    legend=False)\n",
        "\n",
        "    title = 'MTA Exits Number in 2021'\n",
        "    plt.title(title , fontsize = 35)\n",
        "    plt.ylabel(\"Subway\", fontsize = 15)\n",
        "    plt.xlabel(\" \", fontsize = 15)\n",
        "    plt.gca().yaxis.set_major_formatter(mtick.FormatStrFormatter('%.1e'))\n",
        "    plt.xticks(fontsize=30, rotation= 60)\n",
        "    plt.yticks(fontsize=15)\n",
        "\n",
        "    plt.legend(loc=\"upper right\", fontsize = 18,ncol=4)\n",
        "    plt.show()\n",
        "    f.savefig(\"subway_exits_2021.pdf\", bbox_inches='tight')\n"
      ],
      "execution_count": null,
      "outputs": []
    },
    {
      "cell_type": "code",
      "metadata": {
        "id": "fY97JrnYbHej",
        "colab": {
          "base_uri": "https://localhost:8080/",
          "height": 621
        },
        "outputId": "410d1bf1-f435-45cc-d2e6-37ea4600adc7"
      },
      "source": [
        "bar_plot_2021(result)"
      ],
      "execution_count": null,
      "outputs": [
        {
          "output_type": "display_data",
          "data": {
            "image/png": "[encoded data removed]",
            "text/plain": [
              "<Figure size 1512x504 with 1 Axes>"
            ]
          },
          "metadata": {
            "needs_background": "light"
          }
        }
      ]
    },
    {
      "cell_type": "code",
      "metadata": {
        "id": "5QUI-sYPs_AM"
      },
      "source": [
        "print(\"--- %s seconds ---\" % (time.time() - start_time))"
      ],
      "execution_count": null,
      "outputs": []
    },
    {
      "cell_type": "code",
      "metadata": {
        "id": "76ROdPGtbHek"
      },
      "source": [
        "Entry = (df.groupby(['C/A', 'UNIT', 'SCP', 'STATION', 'DATE'])['ENTRIES'].max()\\\n",
        "           -df.groupby(['C/A', 'UNIT', 'SCP', 'STATION', 'DATE'])['ENTRIES'].min()).reset_index()\n",
        "\n",
        "Entry = Entry[Entry.ENTRIES <= 11000]\n",
        "Entry['Week_of_Year'] = pd.to_datetime(Entry['DATE']).dt.strftime('%Y-%U')\n",
        "Entry_cnt = Entry[['Week_of_Year', 'ENTRIES']].groupby(['Week_of_Year']).sum().reset_index().iloc[3:].reset_index(drop = True)\n",
        "Entry_cnt = Entry_cnt[Entry_cnt['Week_of_Year'] != '2021-00'].reset_index(drop = True) \n",
        "\n",
        "Entry_2021 = Entry_cnt[Entry_cnt['Week_of_Year'] >= '2021-00'].reset_index(drop = True)\n",
        "Entry_2021['Year'] = '2021'\n",
        "Entry_2021['Week Num'] = Entry_2021['Week_of_Year'].apply(lambda x: x.split('-')[1])"
      ],
      "execution_count": null,
      "outputs": []
    },
    {
      "cell_type": "code",
      "metadata": {
        "id": "Q-jARiB1ipR5"
      },
      "source": [
        "Entry_2021['Week_of_Year'] = Entry_2021['Week_of_Year'].apply(lambda x: datetime.datetime.strptime(x + '-1', \"%Y-%W-%w\"))\n",
        "Entry_2021['Week_of_Year'] = Entry_2021['Week_of_Year'].dt.strftime(\"%m-%d\")\n",
        "Entry_result = pd.concat([Entry_2021]).reset_index(drop = True)"
      ],
      "execution_count": null,
      "outputs": []
    },
    {
      "cell_type": "code",
      "metadata": {
        "id": "X9tmpWd1bHem"
      },
      "source": [
        "def bar_plot_2021(df_result):\n",
        "    \n",
        "    f = sns.catplot(\n",
        "    data=df_result,\n",
        "    x='Week_of_Year',\n",
        "    y='ENTRIES',\n",
        "    hue='Year',\n",
        "    kind='bar',\n",
        "    height=10, \n",
        "    aspect=3.0,\n",
        "    saturation=0.8,\n",
        "    legend=False)\n",
        "\n",
        "    title = 'MTA Entries Number in 2021'\n",
        "    plt.title(title , fontsize = 35)\n",
        "    plt.ylabel(\"Entries Number\", fontsize = 25)\n",
        "    plt.xlabel(\"Week Number\", fontsize = 25)\n",
        "\n",
        "    plt.xticks(fontsize=30, rotation= 60)\n",
        "    plt.yticks(fontsize=20)\n",
        "\n",
        "    plt.legend(fontsize = 18)\n",
        "    plt.show()\n",
        "    f.savefig(\"subway_entries_2021.pdf\", bbox_inches='tight')\n"
      ],
      "execution_count": null,
      "outputs": []
    },
    {
      "cell_type": "code",
      "metadata": {
        "id": "qL0ZwtALbHen",
        "colab": {
          "base_uri": "https://localhost:8080/",
          "height": 638
        },
        "outputId": "d285e895-0bab-411e-ffce-5262f603bb48"
      },
      "source": [
        "bar_plot_2021(Entry_result)"
      ],
      "execution_count": null,
      "outputs": [
        {
          "output_type": "display_data",
          "data": {
            "image/png": "[encoded data removed]",
            "text/plain": [
              "<Figure size 2160x720 with 1 Axes>"
            ]
          },
          "metadata": {
            "needs_background": "light"
          }
        }
      ]
    },
    {
      "cell_type": "code",
      "metadata": {
        "id": "O6KsXGSFbHer"
      },
      "source": [
        "Exit_result.to_csv('MTA 2021 Exits.csv')"
      ],
      "execution_count": null,
      "outputs": []
    },
    {
      "cell_type": "code",
      "source": [
        "Entry_result.to_csv('MTA 2021 Entries.csv')"
      ],
      "metadata": {
        "id": "VXarvvSoY6oo"
      },
      "execution_count": null,
      "outputs": []
    },
    {
      "cell_type": "code",
      "source": [
        "from google.colab import drive\n",
        "drive.mount('/content/gdrive')"
      ],
      "metadata": {
        "colab": {
          "base_uri": "https://localhost:8080/"
        },
        "id": "b-MxfKm6ZaJ8",
        "outputId": "2a35e000-2738-4a29-9c17-abdaaada1300"
      },
      "execution_count": null,
      "outputs": [
        {
          "output_type": "stream",
          "name": "stdout",
          "text": [
            "Mounted at /content/gdrive\n"
          ]
        }
      ]
    },
    {
      "cell_type": "code",
      "source": [
        "%cd /content/\n",
        "%mkdir /content/MTA_21\n",
        "%ls"
      ],
      "metadata": {
        "colab": {
          "base_uri": "https://localhost:8080/"
        },
        "id": "CX31Yan3ZnSA",
        "outputId": "38ec0b64-6921-4cea-c7fe-0a86c004caae"
      },
      "execution_count": null,
      "outputs": [
        {
          "output_type": "stream",
          "name": "stdout",
          "text": [
            "/content\n",
            " \u001b[0m\u001b[01;34mgdrive\u001b[0m/                 \u001b[01;34mMTA_21\u001b[0m/                   subway_exits_2021.pdf\n",
            "'MTA 2021 Entries.csv'   \u001b[01;34msample_data\u001b[0m/\n",
            "'MTA 2021 Exits.csv'     subway_entries_2021.pdf\n"
          ]
        }
      ]
    },
    {
      "cell_type": "code",
      "source": [
        "import shutil, os\n",
        "files = ['MTA 2021 Exits.csv', 'MTA 2021 Entries.csv', 'subway_entries_2021.pdf', 'subway_exits_2021.pdf']\n",
        "for f in files:\n",
        "    shutil.move(f, '/content/MTA_21')"
      ],
      "metadata": {
        "id": "H4WJ7WHeZute"
      },
      "execution_count": null,
      "outputs": []
    },
    {
      "cell_type": "code",
      "source": [
        "!cp -r MTA_21 gdrive/MyDrive"
      ],
      "metadata": {
        "id": "Lj7-NFSQZiu5"
      },
      "execution_count": null,
      "outputs": []
    }
  ]
}